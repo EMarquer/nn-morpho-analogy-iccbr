{
 "cells": [
  {
   "cell_type": "code",
   "execution_count": 3,
   "metadata": {},
   "outputs": [],
   "source": [
    "from data.utils import *"
   ]
  },
  {
   "cell_type": "code",
   "execution_count": 4,
   "metadata": {},
   "outputs": [
    {
     "data": {
      "text/plain": [
       "([('a', 'b', 'c', 'd'),\n",
       "  ('c', 'd', 'a', 'b'),\n",
       "  ('c', 'a', 'd', 'b'),\n",
       "  ('d', 'b', 'c', 'a'),\n",
       "  ('d', 'c', 'b', 'a'),\n",
       "  ('b', 'a', 'd', 'c'),\n",
       "  ('b', 'd', 'a', 'c'),\n",
       "  ('a', 'c', 'b', 'd')],\n",
       " [('a', 'b', 'a', 'b'),\n",
       "  ('a', 'b', 'a', 'b'),\n",
       "  ('a', 'a', 'b', 'b'),\n",
       "  ('b', 'b', 'a', 'a'),\n",
       "  ('b', 'a', 'b', 'a'),\n",
       "  ('b', 'a', 'b', 'a'),\n",
       "  ('b', 'b', 'a', 'a'),\n",
       "  ('a', 'a', 'b', 'b')],\n",
       " [('a', 'a', 'c', 'd'),\n",
       "  ('c', 'd', 'a', 'a'),\n",
       "  ('c', 'a', 'd', 'a'),\n",
       "  ('d', 'a', 'c', 'a'),\n",
       "  ('d', 'c', 'a', 'a'),\n",
       "  ('a', 'a', 'd', 'c'),\n",
       "  ('a', 'd', 'a', 'c'),\n",
       "  ('a', 'c', 'a', 'd')])"
      ]
     },
     "execution_count": 4,
     "metadata": {},
     "output_type": "execute_result"
    }
   ],
   "source": [
    "aug_base = list(enrich(\"a\", \"b\", \"c\", \"d\"))\n",
    "\n",
    "aug_sym = list(enrich(\"a\", \"b\", \"a\", \"b\"))\n",
    "\n",
    "aug_close = list(enrich(\"a\", \"a\", \"c\", \"d\"))\n",
    "\n",
    "aug_base, aug_sym, aug_close"
   ]
  },
  {
   "cell_type": "code",
   "execution_count": 5,
   "metadata": {},
   "outputs": [
    {
     "data": {
      "text/plain": [
       "([('b', 'a', 'c', 'd'),\n",
       "  ('c', 'b', 'a', 'd'),\n",
       "  ('a', 'a', 'c', 'd'),\n",
       "  ('d', 'c', 'a', 'b'),\n",
       "  ('a', 'd', 'c', 'b'),\n",
       "  ('c', 'c', 'a', 'b'),\n",
       "  ('a', 'c', 'd', 'b'),\n",
       "  ('d', 'a', 'c', 'b'),\n",
       "  ('c', 'c', 'd', 'b'),\n",
       "  ('b', 'd', 'c', 'a'),\n",
       "  ('c', 'b', 'd', 'a'),\n",
       "  ('d', 'd', 'c', 'a'),\n",
       "  ('c', 'd', 'b', 'a'),\n",
       "  ('b', 'c', 'd', 'a'),\n",
       "  ('d', 'd', 'b', 'a'),\n",
       "  ('a', 'b', 'd', 'c'),\n",
       "  ('d', 'a', 'b', 'c'),\n",
       "  ('b', 'b', 'd', 'c'),\n",
       "  ('d', 'b', 'a', 'c'),\n",
       "  ('a', 'd', 'b', 'c'),\n",
       "  ('b', 'b', 'a', 'c'),\n",
       "  ('c', 'a', 'b', 'd'),\n",
       "  ('b', 'c', 'a', 'd'),\n",
       "  ('a', 'a', 'b', 'd')],\n",
       " False)"
      ]
     },
     "execution_count": 5,
     "metadata": {},
     "output_type": "execute_result"
    }
   ],
   "source": [
    "neg_base = [abcd_  for abcd in aug_base for abcd_ in generate_negative(*abcd)]\n",
    "neg_base, any(abcd in aug_base for abcd in neg_base)"
   ]
  },
  {
   "cell_type": "code",
   "execution_count": 10,
   "metadata": {},
   "outputs": [
    {
     "data": {
      "text/plain": [
       "{('a', 'a', 'b', 'b'),\n",
       " ('a', 'b', 'a', 'b'),\n",
       " ('b', 'a', 'b', 'a'),\n",
       " ('b', 'b', 'a', 'a')}"
      ]
     },
     "execution_count": 10,
     "metadata": {},
     "output_type": "execute_result"
    }
   ],
   "source": [
    "neg_sym = [abcd_  for abcd in aug_sym for abcd_ in generate_negative(*abcd)]\n",
    "#neg_sym, any(abcd in aug_sym for abcd in neg_sym)\n",
    "{abcd for abcd in neg_sym if abcd in aug_sym}"
   ]
  },
  {
   "cell_type": "code",
   "execution_count": 8,
   "metadata": {},
   "outputs": [
    {
     "data": {
      "text/plain": [
       "[('a', 'a', 'c', 'd'),\n",
       " ('a', 'a', 'c', 'd'),\n",
       " ('d', 'c', 'a', 'a'),\n",
       " ('d', 'a', 'c', 'a'),\n",
       " ('c', 'a', 'd', 'a'),\n",
       " ('c', 'd', 'a', 'a'),\n",
       " ('a', 'a', 'd', 'c'),\n",
       " ('a', 'a', 'd', 'c'),\n",
       " ('a', 'd', 'a', 'c'),\n",
       " ('a', 'c', 'a', 'd')]"
      ]
     },
     "execution_count": 8,
     "metadata": {},
     "output_type": "execute_result"
    }
   ],
   "source": [
    "neg_close = [abcd_  for abcd in aug_close for abcd_ in generate_negative(*abcd)]\n",
    "#neg_close, any(abcd in aug_close for abcd in neg_close)\n",
    "[abcd for abcd in neg_close if abcd in aug_close]"
   ]
  },
  {
   "cell_type": "code",
   "execution_count": null,
   "metadata": {},
   "outputs": [],
   "source": []
  }
 ],
 "metadata": {
  "interpreter": {
   "hash": "9b5563fb4401b1722a272d09f815fd962d3a640f1bdcce18257b893f97a06b3d"
  },
  "kernelspec": {
   "display_name": "Python 3.9.6 64-bit ('nn-morpho-analogy': conda)",
   "language": "python",
   "name": "python3"
  },
  "language_info": {
   "codemirror_mode": {
    "name": "ipython",
    "version": 3
   },
   "file_extension": ".py",
   "mimetype": "text/x-python",
   "name": "python",
   "nbconvert_exporter": "python",
   "pygments_lexer": "ipython3",
   "version": "3.9.6"
  },
  "orig_nbformat": 4
 },
 "nbformat": 4,
 "nbformat_minor": 2
}
